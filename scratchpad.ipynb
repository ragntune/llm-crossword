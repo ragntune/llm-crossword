{
 "cells": [
  {
   "cell_type": "markdown",
   "metadata": {},
   "source": [
    "# Scratchpad\n",
    "\n",
    "A notebook for quickly iterating ideas\n"
   ]
  },
  {
   "cell_type": "code",
   "execution_count": 1,
   "metadata": {},
   "outputs": [
    {
     "data": {
      "text/plain": [
       "True"
      ]
     },
     "execution_count": 1,
     "metadata": {},
     "output_type": "execute_result"
    }
   ],
   "source": [
    "import os\n",
    "from dotenv import load_dotenv\n",
    "from openai import AzureOpenAI\n",
    "from src.crossword.utils import load_puzzle\n",
    "\n",
    "# Load environment variables from .env file\n",
    "load_dotenv()\n"
   ]
  },
  {
   "cell_type": "code",
   "execution_count": 2,
   "metadata": {},
   "outputs": [],
   "source": [
    "# Load the puzzle\n",
    "puzzle = load_puzzle(\"data/easy.json\")"
   ]
  },
  {
   "cell_type": "code",
   "execution_count": 3,
   "metadata": {},
   "outputs": [
    {
     "name": "stdout",
     "output_type": "stream",
     "text": [
      "--- Clues ---\n",
      "number=1 text='Feline friend' direction=<Direction.ACROSS: 'across'> length=3 row=0 col=0 answer='CAT' answered=False\n"
     ]
    }
   ],
   "source": [
    "print('--- Clues ---')\n",
    "clue = puzzle.clues[0]\n",
    "print(clue)"
   ]
  },
  {
   "cell_type": "code",
   "execution_count": 4,
   "metadata": {},
   "outputs": [
    {
     "name": "stdout",
     "output_type": "stream",
     "text": [
      "--- Set a guess ---\n",
      "┌───────────────┐\n",
      "│ A  B  C  ░  ░ │\n",
      "│    ░     ░  ░ │\n",
      "│    ░     ░  ░ │\n",
      "│ ░  ░     ░  ░ │\n",
      "│ ░  ░  ░  ░  ░ │\n",
      "└───────────────┘\n"
     ]
    }
   ],
   "source": [
    "print('--- Set a guess ---')\n",
    "puzzle.set_clue_chars(puzzle.clues[0], [\"a\", \"b\", \"c\"])\n",
    "print(puzzle)"
   ]
  },
  {
   "cell_type": "code",
   "execution_count": 5,
   "metadata": {},
   "outputs": [
    {
     "name": "stdout",
     "output_type": "stream",
     "text": [
      "--- Undo ---\n",
      "┌───────────────┐\n",
      "│          ░  ░ │\n",
      "│    ░     ░  ░ │\n",
      "│    ░     ░  ░ │\n",
      "│ ░  ░     ░  ░ │\n",
      "│ ░  ░  ░  ░  ░ │\n",
      "└───────────────┘\n"
     ]
    }
   ],
   "source": [
    "print('--- Undo ---')\n",
    "puzzle.undo()\n",
    "print(puzzle)"
   ]
  },
  {
   "cell_type": "code",
   "execution_count": 6,
   "metadata": {},
   "outputs": [
    {
     "name": "stdout",
     "output_type": "stream",
     "text": [
      "--- Set a guess for clue 1 ---\n",
      "--- Set a guess for clue 2 ---\n",
      "--- Completed all? ---\n",
      "False\n",
      "┌───────────────┐\n",
      "│ C  A  T  ░  ░ │\n",
      "│ O  ░     ░  ░ │\n",
      "│ W  ░     ░  ░ │\n",
      "│ ░  ░     ░  ░ │\n",
      "│ ░  ░  ░  ░  ░ │\n",
      "└───────────────┘\n"
     ]
    }
   ],
   "source": [
    "print('--- Set a guess for clue 1 ---')\n",
    "puzzle.set_clue_chars(puzzle.clues[0], [\"c\", \"a\", \"t\"])\n",
    "\n",
    "print('--- Set a guess for clue 2 ---')\n",
    "puzzle.set_clue_chars(puzzle.clues[1], [\"c\", \"o\", \"w\"])\n",
    "\n",
    "print('--- Completed all? ---')\n",
    "print(puzzle.validate_all())\n",
    "print(puzzle)"
   ]
  },
  {
   "cell_type": "code",
   "execution_count": 7,
   "metadata": {},
   "outputs": [
    {
     "name": "stdout",
     "output_type": "stream",
     "text": [
      "--- Set a guess for clue 3 ---\n",
      "--- Completed all? ---\n",
      "True\n",
      "┌───────────────┐\n",
      "│ C  A  T  ░  ░ │\n",
      "│ O  ░  E  ░  ░ │\n",
      "│ W  ░  A  ░  ░ │\n",
      "│ ░  ░  R  ░  ░ │\n",
      "│ ░  ░  ░  ░  ░ │\n",
      "└───────────────┘\n"
     ]
    }
   ],
   "source": [
    "print('--- Set a guess for clue 3 ---')\n",
    "puzzle.set_clue_chars(puzzle.clues[2], [\"t\", \"e\", \"a\",\"r\"])\n",
    "\n",
    "print('--- Completed all? ---')\n",
    "print(puzzle.validate_all())\n",
    "print(puzzle)"
   ]
  },
  {
   "cell_type": "code",
   "execution_count": 8,
   "metadata": {},
   "outputs": [
    {
     "name": "stdout",
     "output_type": "stream",
     "text": [
      "--- Reset ---\n",
      "┌───────────────┐\n",
      "│          ░  ░ │\n",
      "│    ░     ░  ░ │\n",
      "│    ░     ░  ░ │\n",
      "│ ░  ░     ░  ░ │\n",
      "│ ░  ░  ░  ░  ░ │\n",
      "└───────────────┘\n"
     ]
    }
   ],
   "source": [
    "print('--- Reset ---')\n",
    "puzzle.reset()\n",
    "print(puzzle)"
   ]
  },
  {
   "cell_type": "code",
   "execution_count": 9,
   "metadata": {},
   "outputs": [
    {
     "name": "stdout",
     "output_type": "stream",
     "text": [
      "--- OpenAI Hello World ---\n",
      "Hi there! How can I assist you today?\n"
     ]
    }
   ],
   "source": [
    "print('--- OpenAI Hello World ---')\n",
    "def openai_hello_world():\n",
    "    client = AzureOpenAI(\n",
    "        api_version=os.getenv(\"OPENAI_API_VERSION\"),\n",
    "        azure_endpoint=os.getenv(\"AZURE_OPENAI_ENDPOINT\"),\n",
    "        api_key=os.getenv(\"OPENAI_API_KEY\")\n",
    "    )\n",
    "    response = client.chat.completions.create(\n",
    "        model=\"gpt-4o\",\n",
    "        messages=[{\"role\": \"system\", \"content\": \"You are a helpful assistant.\"}, \n",
    "                  {\"role\": \"user\", \"content\": \"Hello!\"}]\n",
    "    )\n",
    "    return response.choices[0].message.content\n",
    "\n",
    "print(openai_hello_world())"
   ]
  },
  {
   "cell_type": "code",
   "execution_count": null,
   "metadata": {},
   "outputs": [],
   "source": []
  }
 ],
 "metadata": {
  "kernelspec": {
   "display_name": "venv",
   "language": "python",
   "name": "python3"
  },
  "language_info": {
   "codemirror_mode": {
    "name": "ipython",
    "version": 3
   },
   "file_extension": ".py",
   "mimetype": "text/x-python",
   "name": "python",
   "nbconvert_exporter": "python",
   "pygments_lexer": "ipython3",
   "version": "3.12.4"
  }
 },
 "nbformat": 4,
 "nbformat_minor": 2
}
